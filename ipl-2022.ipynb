{
 "cells": [
  {
   "cell_type": "code",
   "execution_count": 107,
   "id": "ec9632dc",
   "metadata": {},
   "outputs": [],
   "source": [
    "# loading the libraries\n",
    "import pandas as pd\n",
    "from matplotlib import pyplot as plt\n",
    "import seaborn as sns\n",
    "import numpy as np"
   ]
  },
  {
   "cell_type": "code",
   "execution_count": 11,
   "id": "f9368031",
   "metadata": {},
   "outputs": [],
   "source": [
    "ipl=pd.read_csv(\"D:\\IPL_Matches_2022.csv\")"
   ]
  },
  {
   "cell_type": "code",
   "execution_count": 14,
   "id": "5982635d",
   "metadata": {},
   "outputs": [
    {
     "data": {
      "text/plain": [
       "(74, 20)"
      ]
     },
     "execution_count": 14,
     "metadata": {},
     "output_type": "execute_result"
    }
   ],
   "source": [
    "ipl.shape"
   ]
  },
  {
   "cell_type": "code",
   "execution_count": 12,
   "id": "ce89571a",
   "metadata": {},
   "outputs": [
    {
     "data": {
      "text/html": [
       "<div>\n",
       "<style scoped>\n",
       "    .dataframe tbody tr th:only-of-type {\n",
       "        vertical-align: middle;\n",
       "    }\n",
       "\n",
       "    .dataframe tbody tr th {\n",
       "        vertical-align: top;\n",
       "    }\n",
       "\n",
       "    .dataframe thead th {\n",
       "        text-align: right;\n",
       "    }\n",
       "</style>\n",
       "<table border=\"1\" class=\"dataframe\">\n",
       "  <thead>\n",
       "    <tr style=\"text-align: right;\">\n",
       "      <th></th>\n",
       "      <th>ID</th>\n",
       "      <th>City</th>\n",
       "      <th>Date</th>\n",
       "      <th>Season</th>\n",
       "      <th>MatchNumber</th>\n",
       "      <th>Team1</th>\n",
       "      <th>Team2</th>\n",
       "      <th>Venue</th>\n",
       "      <th>TossWinner</th>\n",
       "      <th>TossDecision</th>\n",
       "      <th>SuperOver</th>\n",
       "      <th>WinningTeam</th>\n",
       "      <th>WonBy</th>\n",
       "      <th>Margin</th>\n",
       "      <th>method</th>\n",
       "      <th>Player_of_Match</th>\n",
       "      <th>Team1Players</th>\n",
       "      <th>Team2Players</th>\n",
       "      <th>Umpire1</th>\n",
       "      <th>Umpire2</th>\n",
       "    </tr>\n",
       "  </thead>\n",
       "  <tbody>\n",
       "    <tr>\n",
       "      <th>0</th>\n",
       "      <td>1312200</td>\n",
       "      <td>Ahmedabad</td>\n",
       "      <td>2022-05-29</td>\n",
       "      <td>2022</td>\n",
       "      <td>Final</td>\n",
       "      <td>Rajasthan Royals</td>\n",
       "      <td>Gujarat Titans</td>\n",
       "      <td>Narendra Modi Stadium, Ahmedabad</td>\n",
       "      <td>Rajasthan Royals</td>\n",
       "      <td>bat</td>\n",
       "      <td>N</td>\n",
       "      <td>Gujarat Titans</td>\n",
       "      <td>Wickets</td>\n",
       "      <td>7</td>\n",
       "      <td>NaN</td>\n",
       "      <td>HH Pandya</td>\n",
       "      <td>['YBK Jaiswal', 'JC Buttler', 'SV Samson', 'D ...</td>\n",
       "      <td>['WP Saha', 'Shubman Gill', 'MS Wade', 'HH Pan...</td>\n",
       "      <td>CB Gaffaney</td>\n",
       "      <td>Nitin Menon</td>\n",
       "    </tr>\n",
       "    <tr>\n",
       "      <th>1</th>\n",
       "      <td>1312199</td>\n",
       "      <td>Ahmedabad</td>\n",
       "      <td>2022-05-27</td>\n",
       "      <td>2022</td>\n",
       "      <td>Qualifier 2</td>\n",
       "      <td>Royal Challengers Bangalore</td>\n",
       "      <td>Rajasthan Royals</td>\n",
       "      <td>Narendra Modi Stadium, Ahmedabad</td>\n",
       "      <td>Rajasthan Royals</td>\n",
       "      <td>field</td>\n",
       "      <td>N</td>\n",
       "      <td>Rajasthan Royals</td>\n",
       "      <td>Wickets</td>\n",
       "      <td>7</td>\n",
       "      <td>NaN</td>\n",
       "      <td>JC Buttler</td>\n",
       "      <td>['V Kohli', 'F du Plessis', 'RM Patidar', 'GJ ...</td>\n",
       "      <td>['YBK Jaiswal', 'JC Buttler', 'SV Samson', 'D ...</td>\n",
       "      <td>CB Gaffaney</td>\n",
       "      <td>Nitin Menon</td>\n",
       "    </tr>\n",
       "    <tr>\n",
       "      <th>2</th>\n",
       "      <td>1312198</td>\n",
       "      <td>Kolkata</td>\n",
       "      <td>2022-05-25</td>\n",
       "      <td>2022</td>\n",
       "      <td>Eliminator</td>\n",
       "      <td>Royal Challengers Bangalore</td>\n",
       "      <td>Lucknow Super Giants</td>\n",
       "      <td>Eden Gardens, Kolkata</td>\n",
       "      <td>Lucknow Super Giants</td>\n",
       "      <td>field</td>\n",
       "      <td>N</td>\n",
       "      <td>Royal Challengers Bangalore</td>\n",
       "      <td>Runs</td>\n",
       "      <td>14</td>\n",
       "      <td>NaN</td>\n",
       "      <td>RM Patidar</td>\n",
       "      <td>['V Kohli', 'F du Plessis', 'RM Patidar', 'GJ ...</td>\n",
       "      <td>['Q de Kock', 'KL Rahul', 'M Vohra', 'DJ Hooda...</td>\n",
       "      <td>J Madanagopal</td>\n",
       "      <td>MA Gough</td>\n",
       "    </tr>\n",
       "    <tr>\n",
       "      <th>3</th>\n",
       "      <td>1312197</td>\n",
       "      <td>Kolkata</td>\n",
       "      <td>2022-05-24</td>\n",
       "      <td>2022</td>\n",
       "      <td>Qualifier 1</td>\n",
       "      <td>Rajasthan Royals</td>\n",
       "      <td>Gujarat Titans</td>\n",
       "      <td>Eden Gardens, Kolkata</td>\n",
       "      <td>Gujarat Titans</td>\n",
       "      <td>field</td>\n",
       "      <td>N</td>\n",
       "      <td>Gujarat Titans</td>\n",
       "      <td>Wickets</td>\n",
       "      <td>7</td>\n",
       "      <td>NaN</td>\n",
       "      <td>DA Miller</td>\n",
       "      <td>['YBK Jaiswal', 'JC Buttler', 'SV Samson', 'D ...</td>\n",
       "      <td>['WP Saha', 'Shubman Gill', 'MS Wade', 'HH Pan...</td>\n",
       "      <td>BNJ Oxenford</td>\n",
       "      <td>VK Sharma</td>\n",
       "    </tr>\n",
       "    <tr>\n",
       "      <th>4</th>\n",
       "      <td>1304116</td>\n",
       "      <td>Mumbai</td>\n",
       "      <td>2022-05-22</td>\n",
       "      <td>2022</td>\n",
       "      <td>70</td>\n",
       "      <td>Sunrisers Hyderabad</td>\n",
       "      <td>Punjab Kings</td>\n",
       "      <td>Wankhede Stadium, Mumbai</td>\n",
       "      <td>Sunrisers Hyderabad</td>\n",
       "      <td>bat</td>\n",
       "      <td>N</td>\n",
       "      <td>Punjab Kings</td>\n",
       "      <td>Wickets</td>\n",
       "      <td>5</td>\n",
       "      <td>NaN</td>\n",
       "      <td>Harpreet Brar</td>\n",
       "      <td>['PK Garg', 'Abhishek Sharma', 'RA Tripathi', ...</td>\n",
       "      <td>['JM Bairstow', 'S Dhawan', 'M Shahrukh Khan',...</td>\n",
       "      <td>AK Chaudhary</td>\n",
       "      <td>NA Patwardhan</td>\n",
       "    </tr>\n",
       "  </tbody>\n",
       "</table>\n",
       "</div>"
      ],
      "text/plain": [
       "        ID       City        Date  Season  MatchNumber  \\\n",
       "0  1312200  Ahmedabad  2022-05-29    2022        Final   \n",
       "1  1312199  Ahmedabad  2022-05-27    2022  Qualifier 2   \n",
       "2  1312198    Kolkata  2022-05-25    2022   Eliminator   \n",
       "3  1312197    Kolkata  2022-05-24    2022  Qualifier 1   \n",
       "4  1304116     Mumbai  2022-05-22    2022           70   \n",
       "\n",
       "                         Team1                 Team2  \\\n",
       "0             Rajasthan Royals        Gujarat Titans   \n",
       "1  Royal Challengers Bangalore      Rajasthan Royals   \n",
       "2  Royal Challengers Bangalore  Lucknow Super Giants   \n",
       "3             Rajasthan Royals        Gujarat Titans   \n",
       "4          Sunrisers Hyderabad          Punjab Kings   \n",
       "\n",
       "                              Venue            TossWinner TossDecision  \\\n",
       "0  Narendra Modi Stadium, Ahmedabad      Rajasthan Royals          bat   \n",
       "1  Narendra Modi Stadium, Ahmedabad      Rajasthan Royals        field   \n",
       "2             Eden Gardens, Kolkata  Lucknow Super Giants        field   \n",
       "3             Eden Gardens, Kolkata        Gujarat Titans        field   \n",
       "4          Wankhede Stadium, Mumbai   Sunrisers Hyderabad          bat   \n",
       "\n",
       "  SuperOver                  WinningTeam    WonBy  Margin  method  \\\n",
       "0         N               Gujarat Titans  Wickets       7     NaN   \n",
       "1         N             Rajasthan Royals  Wickets       7     NaN   \n",
       "2         N  Royal Challengers Bangalore     Runs      14     NaN   \n",
       "3         N               Gujarat Titans  Wickets       7     NaN   \n",
       "4         N                 Punjab Kings  Wickets       5     NaN   \n",
       "\n",
       "  Player_of_Match                                       Team1Players  \\\n",
       "0       HH Pandya  ['YBK Jaiswal', 'JC Buttler', 'SV Samson', 'D ...   \n",
       "1      JC Buttler  ['V Kohli', 'F du Plessis', 'RM Patidar', 'GJ ...   \n",
       "2      RM Patidar  ['V Kohli', 'F du Plessis', 'RM Patidar', 'GJ ...   \n",
       "3       DA Miller  ['YBK Jaiswal', 'JC Buttler', 'SV Samson', 'D ...   \n",
       "4   Harpreet Brar  ['PK Garg', 'Abhishek Sharma', 'RA Tripathi', ...   \n",
       "\n",
       "                                        Team2Players        Umpire1  \\\n",
       "0  ['WP Saha', 'Shubman Gill', 'MS Wade', 'HH Pan...    CB Gaffaney   \n",
       "1  ['YBK Jaiswal', 'JC Buttler', 'SV Samson', 'D ...    CB Gaffaney   \n",
       "2  ['Q de Kock', 'KL Rahul', 'M Vohra', 'DJ Hooda...  J Madanagopal   \n",
       "3  ['WP Saha', 'Shubman Gill', 'MS Wade', 'HH Pan...   BNJ Oxenford   \n",
       "4  ['JM Bairstow', 'S Dhawan', 'M Shahrukh Khan',...   AK Chaudhary   \n",
       "\n",
       "         Umpire2  \n",
       "0    Nitin Menon  \n",
       "1    Nitin Menon  \n",
       "2       MA Gough  \n",
       "3      VK Sharma  \n",
       "4  NA Patwardhan  "
      ]
     },
     "execution_count": 12,
     "metadata": {},
     "output_type": "execute_result"
    }
   ],
   "source": [
    "# first five records\n",
    "ipl.head()"
   ]
  },
  {
   "cell_type": "code",
   "execution_count": 48,
   "id": "61a87bc8",
   "metadata": {},
   "outputs": [
    {
     "data": {
      "text/html": [
       "<div>\n",
       "<style scoped>\n",
       "    .dataframe tbody tr th:only-of-type {\n",
       "        vertical-align: middle;\n",
       "    }\n",
       "\n",
       "    .dataframe tbody tr th {\n",
       "        vertical-align: top;\n",
       "    }\n",
       "\n",
       "    .dataframe thead th {\n",
       "        text-align: right;\n",
       "    }\n",
       "</style>\n",
       "<table border=\"1\" class=\"dataframe\">\n",
       "  <thead>\n",
       "    <tr style=\"text-align: right;\">\n",
       "      <th></th>\n",
       "      <th>ID</th>\n",
       "      <th>City</th>\n",
       "      <th>Date</th>\n",
       "      <th>Season</th>\n",
       "      <th>MatchNumber</th>\n",
       "      <th>Team1</th>\n",
       "      <th>Team2</th>\n",
       "      <th>Venue</th>\n",
       "      <th>TossWinner</th>\n",
       "      <th>TossDecision</th>\n",
       "      <th>SuperOver</th>\n",
       "      <th>WinningTeam</th>\n",
       "      <th>WonBy</th>\n",
       "      <th>Margin</th>\n",
       "      <th>method</th>\n",
       "      <th>Player_of_Match</th>\n",
       "      <th>Team1Players</th>\n",
       "      <th>Team2Players</th>\n",
       "      <th>Umpire1</th>\n",
       "      <th>Umpire2</th>\n",
       "    </tr>\n",
       "  </thead>\n",
       "  <tbody>\n",
       "    <tr>\n",
       "      <th>69</th>\n",
       "      <td>1304051</td>\n",
       "      <td>Pune</td>\n",
       "      <td>2022-03-29</td>\n",
       "      <td>2022</td>\n",
       "      <td>5</td>\n",
       "      <td>Rajasthan Royals</td>\n",
       "      <td>Sunrisers Hyderabad</td>\n",
       "      <td>Maharashtra Cricket Association Stadium, Pune</td>\n",
       "      <td>Sunrisers Hyderabad</td>\n",
       "      <td>field</td>\n",
       "      <td>N</td>\n",
       "      <td>Rajasthan Royals</td>\n",
       "      <td>Runs</td>\n",
       "      <td>61</td>\n",
       "      <td>NaN</td>\n",
       "      <td>SV Samson</td>\n",
       "      <td>['JC Buttler', 'YBK Jaiswal', 'SV Samson', 'D ...</td>\n",
       "      <td>['KS Williamson', 'Abhishek Sharma', 'RA Tripa...</td>\n",
       "      <td>BNJ Oxenford</td>\n",
       "      <td>UV Gandhe</td>\n",
       "    </tr>\n",
       "    <tr>\n",
       "      <th>70</th>\n",
       "      <td>1304050</td>\n",
       "      <td>Mumbai</td>\n",
       "      <td>2022-03-28</td>\n",
       "      <td>2022</td>\n",
       "      <td>4</td>\n",
       "      <td>Lucknow Super Giants</td>\n",
       "      <td>Gujarat Titans</td>\n",
       "      <td>Wankhede Stadium, Mumbai</td>\n",
       "      <td>Gujarat Titans</td>\n",
       "      <td>field</td>\n",
       "      <td>N</td>\n",
       "      <td>Gujarat Titans</td>\n",
       "      <td>Wickets</td>\n",
       "      <td>5</td>\n",
       "      <td>NaN</td>\n",
       "      <td>Mohammed Shami</td>\n",
       "      <td>['KL Rahul', 'Q de Kock', 'E Lewis', 'MK Pande...</td>\n",
       "      <td>['Shubman Gill', 'MS Wade', 'V Shankar', 'HH P...</td>\n",
       "      <td>PG Pathak</td>\n",
       "      <td>VK Sharma</td>\n",
       "    </tr>\n",
       "    <tr>\n",
       "      <th>71</th>\n",
       "      <td>1304049</td>\n",
       "      <td>Mumbai</td>\n",
       "      <td>2022-03-27</td>\n",
       "      <td>2022</td>\n",
       "      <td>3</td>\n",
       "      <td>Royal Challengers Bangalore</td>\n",
       "      <td>Punjab Kings</td>\n",
       "      <td>Dr DY Patil Sports Academy, Mumbai</td>\n",
       "      <td>Punjab Kings</td>\n",
       "      <td>field</td>\n",
       "      <td>N</td>\n",
       "      <td>Punjab Kings</td>\n",
       "      <td>Wickets</td>\n",
       "      <td>5</td>\n",
       "      <td>NaN</td>\n",
       "      <td>OF Smith</td>\n",
       "      <td>['F du Plessis', 'Anuj Rawat', 'V Kohli', 'KD ...</td>\n",
       "      <td>['MA Agarwal', 'S Dhawan', 'PBB Rajapaksa', 'L...</td>\n",
       "      <td>Nitin Menon</td>\n",
       "      <td>YC Barde</td>\n",
       "    </tr>\n",
       "    <tr>\n",
       "      <th>72</th>\n",
       "      <td>1304048</td>\n",
       "      <td>Mumbai</td>\n",
       "      <td>2022-03-27</td>\n",
       "      <td>2022</td>\n",
       "      <td>2</td>\n",
       "      <td>Mumbai Indians</td>\n",
       "      <td>Delhi Capitals</td>\n",
       "      <td>Brabourne Stadium, Mumbai</td>\n",
       "      <td>Delhi Capitals</td>\n",
       "      <td>field</td>\n",
       "      <td>N</td>\n",
       "      <td>Delhi Capitals</td>\n",
       "      <td>Wickets</td>\n",
       "      <td>4</td>\n",
       "      <td>NaN</td>\n",
       "      <td>Kuldeep Yadav</td>\n",
       "      <td>['RG Sharma', 'Ishan Kishan', 'Anmolpreet Sing...</td>\n",
       "      <td>['PP Shaw', 'TL Seifert', 'Mandeep Singh', 'RR...</td>\n",
       "      <td>RJ Tucker</td>\n",
       "      <td>HAS Khalid</td>\n",
       "    </tr>\n",
       "    <tr>\n",
       "      <th>73</th>\n",
       "      <td>1304047</td>\n",
       "      <td>Mumbai</td>\n",
       "      <td>2022-03-26</td>\n",
       "      <td>2022</td>\n",
       "      <td>1</td>\n",
       "      <td>Chennai Super Kings</td>\n",
       "      <td>Kolkata Knight Riders</td>\n",
       "      <td>Wankhede Stadium, Mumbai</td>\n",
       "      <td>Kolkata Knight Riders</td>\n",
       "      <td>field</td>\n",
       "      <td>N</td>\n",
       "      <td>Kolkata Knight Riders</td>\n",
       "      <td>Wickets</td>\n",
       "      <td>6</td>\n",
       "      <td>NaN</td>\n",
       "      <td>UT Yadav</td>\n",
       "      <td>['RD Gaikwad', 'DP Conway', 'RV Uthappa', 'AT ...</td>\n",
       "      <td>['AM Rahane', 'VR Iyer', 'N Rana', 'SS Iyer', ...</td>\n",
       "      <td>AK Chaudhary</td>\n",
       "      <td>Nitin Menon</td>\n",
       "    </tr>\n",
       "  </tbody>\n",
       "</table>\n",
       "</div>"
      ],
      "text/plain": [
       "         ID    City        Date  Season MatchNumber  \\\n",
       "69  1304051    Pune  2022-03-29    2022           5   \n",
       "70  1304050  Mumbai  2022-03-28    2022           4   \n",
       "71  1304049  Mumbai  2022-03-27    2022           3   \n",
       "72  1304048  Mumbai  2022-03-27    2022           2   \n",
       "73  1304047  Mumbai  2022-03-26    2022           1   \n",
       "\n",
       "                          Team1                  Team2  \\\n",
       "69             Rajasthan Royals    Sunrisers Hyderabad   \n",
       "70         Lucknow Super Giants         Gujarat Titans   \n",
       "71  Royal Challengers Bangalore           Punjab Kings   \n",
       "72               Mumbai Indians         Delhi Capitals   \n",
       "73          Chennai Super Kings  Kolkata Knight Riders   \n",
       "\n",
       "                                            Venue             TossWinner  \\\n",
       "69  Maharashtra Cricket Association Stadium, Pune    Sunrisers Hyderabad   \n",
       "70                       Wankhede Stadium, Mumbai         Gujarat Titans   \n",
       "71             Dr DY Patil Sports Academy, Mumbai           Punjab Kings   \n",
       "72                      Brabourne Stadium, Mumbai         Delhi Capitals   \n",
       "73                       Wankhede Stadium, Mumbai  Kolkata Knight Riders   \n",
       "\n",
       "   TossDecision SuperOver            WinningTeam    WonBy  Margin  method  \\\n",
       "69        field         N       Rajasthan Royals     Runs      61     NaN   \n",
       "70        field         N         Gujarat Titans  Wickets       5     NaN   \n",
       "71        field         N           Punjab Kings  Wickets       5     NaN   \n",
       "72        field         N         Delhi Capitals  Wickets       4     NaN   \n",
       "73        field         N  Kolkata Knight Riders  Wickets       6     NaN   \n",
       "\n",
       "   Player_of_Match                                       Team1Players  \\\n",
       "69       SV Samson  ['JC Buttler', 'YBK Jaiswal', 'SV Samson', 'D ...   \n",
       "70  Mohammed Shami  ['KL Rahul', 'Q de Kock', 'E Lewis', 'MK Pande...   \n",
       "71        OF Smith  ['F du Plessis', 'Anuj Rawat', 'V Kohli', 'KD ...   \n",
       "72   Kuldeep Yadav  ['RG Sharma', 'Ishan Kishan', 'Anmolpreet Sing...   \n",
       "73        UT Yadav  ['RD Gaikwad', 'DP Conway', 'RV Uthappa', 'AT ...   \n",
       "\n",
       "                                         Team2Players       Umpire1  \\\n",
       "69  ['KS Williamson', 'Abhishek Sharma', 'RA Tripa...  BNJ Oxenford   \n",
       "70  ['Shubman Gill', 'MS Wade', 'V Shankar', 'HH P...     PG Pathak   \n",
       "71  ['MA Agarwal', 'S Dhawan', 'PBB Rajapaksa', 'L...   Nitin Menon   \n",
       "72  ['PP Shaw', 'TL Seifert', 'Mandeep Singh', 'RR...     RJ Tucker   \n",
       "73  ['AM Rahane', 'VR Iyer', 'N Rana', 'SS Iyer', ...  AK Chaudhary   \n",
       "\n",
       "        Umpire2  \n",
       "69    UV Gandhe  \n",
       "70    VK Sharma  \n",
       "71     YC Barde  \n",
       "72   HAS Khalid  \n",
       "73  Nitin Menon  "
      ]
     },
     "execution_count": 48,
     "metadata": {},
     "output_type": "execute_result"
    }
   ],
   "source": [
    "ipl.tail()"
   ]
  },
  {
   "cell_type": "code",
   "execution_count": 16,
   "id": "e8f07908",
   "metadata": {
    "scrolled": true
   },
   "outputs": [
    {
     "data": {
      "text/plain": [
       "Kuldeep Yadav       4\n",
       "JC Buttler          3\n",
       "HH Pandya           2\n",
       "KL Rahul            2\n",
       "YS Chahal           2\n",
       "KD Karthik          2\n",
       "Avesh Khan          2\n",
       "PWH de Silva        2\n",
       "Shubman Gill        2\n",
       "Umran Malik         2\n",
       "JJ Bumrah           2\n",
       "DA Miller           2\n",
       "RA Tripathi         2\n",
       "Q de Kock           2\n",
       "UT Yadav            2\n",
       "F du Plessis        1\n",
       "R Parag             1\n",
       "S Dhawan            1\n",
       "Mohammed Shami      1\n",
       "M Jansen            1\n",
       "Rashid Khan         1\n",
       "Mukesh Choudhary    1\n",
       "LH Ferguson         1\n",
       "SV Samson           1\n",
       "LS Livingstone      1\n",
       "E Lewis             1\n",
       "MA Agarwal          1\n",
       "KS Williamson       1\n",
       "Anuj Rawat          1\n",
       "Abhishek Sharma     1\n",
       "PJ Cummins          1\n",
       "S Dube              1\n",
       "Mohsin Khan         1\n",
       "KH Pandya           1\n",
       "DR Sams             1\n",
       "RM Patidar          1\n",
       "Harpreet Brar       1\n",
       "R Ashwin            1\n",
       "V Kohli             1\n",
       "SN Thakur           1\n",
       "TA Boult            1\n",
       "WP Saha             1\n",
       "AD Russell          1\n",
       "JM Bairstow         1\n",
       "MR Marsh            1\n",
       "R Tewatia           1\n",
       "DP Conway           1\n",
       "YBK Jaiswal         1\n",
       "TH David            1\n",
       "DA Warner           1\n",
       "HV Patel            1\n",
       "K Rabada            1\n",
       "RK Singh            1\n",
       "RD Gaikwad          1\n",
       "SA Yadav            1\n",
       "OF Smith            1\n",
       "Name: Player_of_Match, dtype: int64"
      ]
     },
     "execution_count": 16,
     "metadata": {},
     "output_type": "execute_result"
    }
   ],
   "source": [
    "# most man of the match\n",
    "ipl['Player_of_Match'].value_counts()"
   ]
  },
  {
   "cell_type": "code",
   "execution_count": 53,
   "id": "215ccf02",
   "metadata": {},
   "outputs": [
    {
     "data": {
      "text/plain": [
       "Kuldeep Yadav    4\n",
       "JC Buttler       3\n",
       "HH Pandya        2\n",
       "KL Rahul         2\n",
       "YS Chahal        2\n",
       "Name: Player_of_Match, dtype: int64"
      ]
     },
     "execution_count": 53,
     "metadata": {},
     "output_type": "execute_result"
    }
   ],
   "source": [
    "# Top 10 - most man of the match\n",
    "ipl['Player_of_Match'].value_counts()[0:5]"
   ]
  },
  {
   "cell_type": "code",
   "execution_count": 54,
   "id": "679d83f8",
   "metadata": {},
   "outputs": [
    {
     "data": {
      "text/plain": [
       "Index(['Kuldeep Yadav', 'JC Buttler', 'HH Pandya', 'KL Rahul', 'YS Chahal'], dtype='object')"
      ]
     },
     "execution_count": 54,
     "metadata": {},
     "output_type": "execute_result"
    }
   ],
   "source": [
    "# Top 10 -most man of the match (only names of players)\n",
    "ipl['Player_of_Match'].value_counts()[0:5].keys()"
   ]
  },
  {
   "cell_type": "code",
   "execution_count": 57,
   "id": "4d260498",
   "metadata": {},
   "outputs": [
    {
     "data": {
      "image/png": "[encoded data removed]",
      "text/plain": [
       "<Figure size 720x360 with 1 Axes>"
      ]
     },
     "metadata": {
      "needs_background": "light"
     },
     "output_type": "display_data"
    }
   ],
   "source": [
    "# bar plot\n",
    "plt.figure(figsize=(10,5))\n",
    "plt.bar(list(ipl['Player_of_Match'].value_counts()[0:5].keys()),ipl['Player_of_Match'].value_counts()[0:5])\n",
    "plt.show()"
   ]
  },
  {
   "cell_type": "code",
   "execution_count": 59,
   "id": "0e515180",
   "metadata": {},
   "outputs": [
    {
     "data": {
      "text/plain": [
       "Gujarat Titans                 10\n",
       "Sunrisers Hyderabad            10\n",
       "Mumbai Indians                  9\n",
       "Kolkata Knight Riders           8\n",
       "Royal Challengers Bangalore     8\n",
       "Delhi Capitals                  8\n",
       "Lucknow Super Giants            7\n",
       "Chennai Super Kings             6\n",
       "Rajasthan Royals                4\n",
       "Punjab Kings                    4\n",
       "Name: TossWinner, dtype: int64"
      ]
     },
     "execution_count": 59,
     "metadata": {},
     "output_type": "execute_result"
    }
   ],
   "source": [
    "# number of toss win\n",
    "ipl['TossWinner'].value_counts()"
   ]
  },
  {
   "cell_type": "code",
   "execution_count": 62,
   "id": "43db501d",
   "metadata": {},
   "outputs": [],
   "source": [
    "# extracting the records where a team won batting first\n",
    "batting_first=ipl[ipl[\"WonBy\"]==\"Runs\"]"
   ]
  },
  {
   "cell_type": "code",
   "execution_count": 63,
   "id": "7b6190fa",
   "metadata": {},
   "outputs": [
    {
     "data": {
      "text/html": [
       "<div>\n",
       "<style scoped>\n",
       "    .dataframe tbody tr th:only-of-type {\n",
       "        vertical-align: middle;\n",
       "    }\n",
       "\n",
       "    .dataframe tbody tr th {\n",
       "        vertical-align: top;\n",
       "    }\n",
       "\n",
       "    .dataframe thead th {\n",
       "        text-align: right;\n",
       "    }\n",
       "</style>\n",
       "<table border=\"1\" class=\"dataframe\">\n",
       "  <thead>\n",
       "    <tr style=\"text-align: right;\">\n",
       "      <th></th>\n",
       "      <th>ID</th>\n",
       "      <th>City</th>\n",
       "      <th>Date</th>\n",
       "      <th>Season</th>\n",
       "      <th>MatchNumber</th>\n",
       "      <th>Team1</th>\n",
       "      <th>Team2</th>\n",
       "      <th>Venue</th>\n",
       "      <th>TossWinner</th>\n",
       "      <th>TossDecision</th>\n",
       "      <th>SuperOver</th>\n",
       "      <th>WinningTeam</th>\n",
       "      <th>WonBy</th>\n",
       "      <th>Margin</th>\n",
       "      <th>method</th>\n",
       "      <th>Player_of_Match</th>\n",
       "      <th>Team1Players</th>\n",
       "      <th>Team2Players</th>\n",
       "      <th>Umpire1</th>\n",
       "      <th>Umpire2</th>\n",
       "    </tr>\n",
       "  </thead>\n",
       "  <tbody>\n",
       "    <tr>\n",
       "      <th>2</th>\n",
       "      <td>1312198</td>\n",
       "      <td>Kolkata</td>\n",
       "      <td>2022-05-25</td>\n",
       "      <td>2022</td>\n",
       "      <td>Eliminator</td>\n",
       "      <td>Royal Challengers Bangalore</td>\n",
       "      <td>Lucknow Super Giants</td>\n",
       "      <td>Eden Gardens, Kolkata</td>\n",
       "      <td>Lucknow Super Giants</td>\n",
       "      <td>field</td>\n",
       "      <td>N</td>\n",
       "      <td>Royal Challengers Bangalore</td>\n",
       "      <td>Runs</td>\n",
       "      <td>14</td>\n",
       "      <td>NaN</td>\n",
       "      <td>RM Patidar</td>\n",
       "      <td>['V Kohli', 'F du Plessis', 'RM Patidar', 'GJ ...</td>\n",
       "      <td>['Q de Kock', 'KL Rahul', 'M Vohra', 'DJ Hooda...</td>\n",
       "      <td>J Madanagopal</td>\n",
       "      <td>MA Gough</td>\n",
       "    </tr>\n",
       "    <tr>\n",
       "      <th>8</th>\n",
       "      <td>1304112</td>\n",
       "      <td>Navi Mumbai</td>\n",
       "      <td>2022-05-18</td>\n",
       "      <td>2022</td>\n",
       "      <td>66</td>\n",
       "      <td>Lucknow Super Giants</td>\n",
       "      <td>Kolkata Knight Riders</td>\n",
       "      <td>Dr DY Patil Sports Academy, Mumbai</td>\n",
       "      <td>Lucknow Super Giants</td>\n",
       "      <td>bat</td>\n",
       "      <td>N</td>\n",
       "      <td>Lucknow Super Giants</td>\n",
       "      <td>Runs</td>\n",
       "      <td>2</td>\n",
       "      <td>NaN</td>\n",
       "      <td>Q de Kock</td>\n",
       "      <td>['Q de Kock', 'KL Rahul', 'E Lewis', 'DJ Hooda...</td>\n",
       "      <td>['VR Iyer', 'A Tomar', 'N Rana', 'SS Iyer', 'S...</td>\n",
       "      <td>R Pandit</td>\n",
       "      <td>YC Barde</td>\n",
       "    </tr>\n",
       "    <tr>\n",
       "      <th>9</th>\n",
       "      <td>1304111</td>\n",
       "      <td>Mumbai</td>\n",
       "      <td>2022-05-17</td>\n",
       "      <td>2022</td>\n",
       "      <td>65</td>\n",
       "      <td>Sunrisers Hyderabad</td>\n",
       "      <td>Mumbai Indians</td>\n",
       "      <td>Wankhede Stadium, Mumbai</td>\n",
       "      <td>Mumbai Indians</td>\n",
       "      <td>field</td>\n",
       "      <td>N</td>\n",
       "      <td>Sunrisers Hyderabad</td>\n",
       "      <td>Runs</td>\n",
       "      <td>3</td>\n",
       "      <td>NaN</td>\n",
       "      <td>RA Tripathi</td>\n",
       "      <td>['Abhishek Sharma', 'PK Garg', 'RA Tripathi', ...</td>\n",
       "      <td>['RG Sharma', 'Ishan Kishan', 'DR Sams', 'Tila...</td>\n",
       "      <td>CB Gaffaney</td>\n",
       "      <td>N Pandit</td>\n",
       "    </tr>\n",
       "    <tr>\n",
       "      <th>10</th>\n",
       "      <td>1304110</td>\n",
       "      <td>Navi Mumbai</td>\n",
       "      <td>2022-05-16</td>\n",
       "      <td>2022</td>\n",
       "      <td>64</td>\n",
       "      <td>Delhi Capitals</td>\n",
       "      <td>Punjab Kings</td>\n",
       "      <td>Dr DY Patil Sports Academy, Mumbai</td>\n",
       "      <td>Punjab Kings</td>\n",
       "      <td>field</td>\n",
       "      <td>N</td>\n",
       "      <td>Delhi Capitals</td>\n",
       "      <td>Runs</td>\n",
       "      <td>17</td>\n",
       "      <td>NaN</td>\n",
       "      <td>SN Thakur</td>\n",
       "      <td>['DA Warner', 'SN Khan', 'MR Marsh', 'Lalit Ya...</td>\n",
       "      <td>['JM Bairstow', 'S Dhawan', 'PBB Rajapaksa', '...</td>\n",
       "      <td>GR Sadashiv Iyer</td>\n",
       "      <td>Nitin Menon</td>\n",
       "    </tr>\n",
       "    <tr>\n",
       "      <th>11</th>\n",
       "      <td>1304109</td>\n",
       "      <td>Mumbai</td>\n",
       "      <td>2022-05-15</td>\n",
       "      <td>2022</td>\n",
       "      <td>63</td>\n",
       "      <td>Rajasthan Royals</td>\n",
       "      <td>Lucknow Super Giants</td>\n",
       "      <td>Brabourne Stadium, Mumbai</td>\n",
       "      <td>Rajasthan Royals</td>\n",
       "      <td>bat</td>\n",
       "      <td>N</td>\n",
       "      <td>Rajasthan Royals</td>\n",
       "      <td>Runs</td>\n",
       "      <td>24</td>\n",
       "      <td>NaN</td>\n",
       "      <td>TA Boult</td>\n",
       "      <td>['YBK Jaiswal', 'JC Buttler', 'SV Samson', 'D ...</td>\n",
       "      <td>['Q de Kock', 'KL Rahul', 'A Badoni', 'DJ Hood...</td>\n",
       "      <td>PG Pathak</td>\n",
       "      <td>Tapan Sharma</td>\n",
       "    </tr>\n",
       "  </tbody>\n",
       "</table>\n",
       "</div>"
      ],
      "text/plain": [
       "         ID         City        Date  Season MatchNumber  \\\n",
       "2   1312198      Kolkata  2022-05-25    2022  Eliminator   \n",
       "8   1304112  Navi Mumbai  2022-05-18    2022          66   \n",
       "9   1304111       Mumbai  2022-05-17    2022          65   \n",
       "10  1304110  Navi Mumbai  2022-05-16    2022          64   \n",
       "11  1304109       Mumbai  2022-05-15    2022          63   \n",
       "\n",
       "                          Team1                  Team2  \\\n",
       "2   Royal Challengers Bangalore   Lucknow Super Giants   \n",
       "8          Lucknow Super Giants  Kolkata Knight Riders   \n",
       "9           Sunrisers Hyderabad         Mumbai Indians   \n",
       "10               Delhi Capitals           Punjab Kings   \n",
       "11             Rajasthan Royals   Lucknow Super Giants   \n",
       "\n",
       "                                 Venue            TossWinner TossDecision  \\\n",
       "2                Eden Gardens, Kolkata  Lucknow Super Giants        field   \n",
       "8   Dr DY Patil Sports Academy, Mumbai  Lucknow Super Giants          bat   \n",
       "9             Wankhede Stadium, Mumbai        Mumbai Indians        field   \n",
       "10  Dr DY Patil Sports Academy, Mumbai          Punjab Kings        field   \n",
       "11           Brabourne Stadium, Mumbai      Rajasthan Royals          bat   \n",
       "\n",
       "   SuperOver                  WinningTeam WonBy  Margin  method  \\\n",
       "2          N  Royal Challengers Bangalore  Runs      14     NaN   \n",
       "8          N         Lucknow Super Giants  Runs       2     NaN   \n",
       "9          N          Sunrisers Hyderabad  Runs       3     NaN   \n",
       "10         N               Delhi Capitals  Runs      17     NaN   \n",
       "11         N             Rajasthan Royals  Runs      24     NaN   \n",
       "\n",
       "   Player_of_Match                                       Team1Players  \\\n",
       "2       RM Patidar  ['V Kohli', 'F du Plessis', 'RM Patidar', 'GJ ...   \n",
       "8        Q de Kock  ['Q de Kock', 'KL Rahul', 'E Lewis', 'DJ Hooda...   \n",
       "9      RA Tripathi  ['Abhishek Sharma', 'PK Garg', 'RA Tripathi', ...   \n",
       "10       SN Thakur  ['DA Warner', 'SN Khan', 'MR Marsh', 'Lalit Ya...   \n",
       "11        TA Boult  ['YBK Jaiswal', 'JC Buttler', 'SV Samson', 'D ...   \n",
       "\n",
       "                                         Team2Players           Umpire1  \\\n",
       "2   ['Q de Kock', 'KL Rahul', 'M Vohra', 'DJ Hooda...     J Madanagopal   \n",
       "8   ['VR Iyer', 'A Tomar', 'N Rana', 'SS Iyer', 'S...          R Pandit   \n",
       "9   ['RG Sharma', 'Ishan Kishan', 'DR Sams', 'Tila...       CB Gaffaney   \n",
       "10  ['JM Bairstow', 'S Dhawan', 'PBB Rajapaksa', '...  GR Sadashiv Iyer   \n",
       "11  ['Q de Kock', 'KL Rahul', 'A Badoni', 'DJ Hood...         PG Pathak   \n",
       "\n",
       "         Umpire2  \n",
       "2       MA Gough  \n",
       "8       YC Barde  \n",
       "9       N Pandit  \n",
       "10   Nitin Menon  \n",
       "11  Tapan Sharma  "
      ]
     },
     "execution_count": 63,
     "metadata": {},
     "output_type": "execute_result"
    }
   ],
   "source": [
    "batting_first.head()"
   ]
  },
  {
   "cell_type": "code",
   "execution_count": 69,
   "id": "f719c38d",
   "metadata": {},
   "outputs": [
    {
     "data": {
      "image/png": "[encoded data removed]",
      "text/plain": [
       "<Figure size 360x504 with 1 Axes>"
      ]
     },
     "metadata": {
      "needs_background": "light"
     },
     "output_type": "display_data"
    }
   ],
   "source": [
    "# histogram\n",
    "plt.figure(figsize=(5,7))\n",
    "plt.hist(batting_first['Margin'])\n",
    "plt.title(\"Distribution by runs\")\n",
    "plt.xlabel(\"runs\")\n",
    "plt.show()"
   ]
  },
  {
   "cell_type": "code",
   "execution_count": 71,
   "id": "b6fc78eb",
   "metadata": {},
   "outputs": [
    {
     "data": {
      "text/plain": [
       "Lucknow Super Giants           7\n",
       "Rajasthan Royals               7\n",
       "Royal Challengers Bangalore    5\n",
       "Punjab Kings                   4\n",
       "Gujarat Titans                 4\n",
       "Delhi Capitals                 3\n",
       "Chennai Super Kings            3\n",
       "Kolkata Knight Riders          2\n",
       "Sunrisers Hyderabad            1\n",
       "Mumbai Indians                 1\n",
       "Name: WinningTeam, dtype: int64"
      ]
     },
     "execution_count": 71,
     "metadata": {},
     "output_type": "execute_result"
    }
   ],
   "source": [
    "# finding out the number of times the team wins w.r.t. each team after batting first\n",
    "batting_first['WinningTeam'].value_counts()"
   ]
  },
  {
   "cell_type": "code",
   "execution_count": 76,
   "id": "c8834a8e",
   "metadata": {},
   "outputs": [
    {
     "data": {
      "text/plain": [
       "Index(['Lucknow Super Giants', 'Rajasthan Royals',\n",
       "       'Royal Challengers Bangalore', 'Punjab Kings', 'Gujarat Titans',\n",
       "       'Delhi Capitals', 'Chennai Super Kings', 'Kolkata Knight Riders',\n",
       "       'Sunrisers Hyderabad', 'Mumbai Indians'],\n",
       "      dtype='object')"
      ]
     },
     "execution_count": 76,
     "metadata": {},
     "output_type": "execute_result"
    }
   ],
   "source": [
    "batting_first['WinningTeam'].value_counts().keys()"
   ]
  },
  {
   "cell_type": "code",
   "execution_count": 78,
   "id": "9c8f77d5",
   "metadata": {},
   "outputs": [
    {
     "data": {
      "image/png": "[encoded data removed]",
      "text/plain": [
       "<Figure size 360x216 with 1 Axes>"
      ]
     },
     "metadata": {
      "needs_background": "light"
     },
     "output_type": "display_data"
    }
   ],
   "source": [
    "plt.figure(figsize=(5,3))\n",
    "plt.bar(list(batting_first['WinningTeam'].value_counts().keys()),batting_first['WinningTeam'].value_counts())\n",
    "plt.show()"
   ]
  },
  {
   "cell_type": "code",
   "execution_count": 81,
   "id": "25ebd932",
   "metadata": {},
   "outputs": [
    {
     "data": {
      "image/png": "[encoded data removed]",
      "text/plain": [
       "<Figure size 432x432 with 1 Axes>"
      ]
     },
     "metadata": {
      "needs_background": "light"
     },
     "output_type": "display_data"
    }
   ],
   "source": [
    "# making bar plot for top 3 teams with most wuns after first batting\n",
    "plt.figure(figsize=(6,6))\n",
    "plt.bar(list(batting_first['WinningTeam'].value_counts()[0:3].keys()),batting_first['WinningTeam'].value_counts()[0:3],color=[\"blue\",\"red\",\"yellow\"])\n",
    "plt.show()"
   ]
  },
  {
   "cell_type": "code",
   "execution_count": 87,
   "id": "e0f335d3",
   "metadata": {},
   "outputs": [
    {
     "data": {
      "image/png": "[encoded data removed]",
      "text/plain": [
       "<Figure size 432x432 with 1 Axes>"
      ]
     },
     "metadata": {},
     "output_type": "display_data"
    }
   ],
   "source": [
    "# pie chart\n",
    "plt.figure(figsize=(6,6))\n",
    "plt.pie(list(batting_first['WinningTeam'].value_counts()),labels=list(batting_first['WinningTeam'].value_counts().keys()),autopct='%0.1f%%')\n",
    "plt.show()\n"
   ]
  },
  {
   "cell_type": "code",
   "execution_count": 89,
   "id": "2cff0cad",
   "metadata": {},
   "outputs": [],
   "source": [
    "# records where team won match after batting second\n",
    "batting_second=ipl[ipl[\"WonBy\"]==\"Wickets\"]"
   ]
  },
  {
   "cell_type": "code",
   "execution_count": 90,
   "id": "63e0c4ce",
   "metadata": {},
   "outputs": [
    {
     "data": {
      "text/html": [
       "<div>\n",
       "<style scoped>\n",
       "    .dataframe tbody tr th:only-of-type {\n",
       "        vertical-align: middle;\n",
       "    }\n",
       "\n",
       "    .dataframe tbody tr th {\n",
       "        vertical-align: top;\n",
       "    }\n",
       "\n",
       "    .dataframe thead th {\n",
       "        text-align: right;\n",
       "    }\n",
       "</style>\n",
       "<table border=\"1\" class=\"dataframe\">\n",
       "  <thead>\n",
       "    <tr style=\"text-align: right;\">\n",
       "      <th></th>\n",
       "      <th>ID</th>\n",
       "      <th>City</th>\n",
       "      <th>Date</th>\n",
       "      <th>Season</th>\n",
       "      <th>MatchNumber</th>\n",
       "      <th>Team1</th>\n",
       "      <th>Team2</th>\n",
       "      <th>Venue</th>\n",
       "      <th>TossWinner</th>\n",
       "      <th>TossDecision</th>\n",
       "      <th>SuperOver</th>\n",
       "      <th>WinningTeam</th>\n",
       "      <th>WonBy</th>\n",
       "      <th>Margin</th>\n",
       "      <th>method</th>\n",
       "      <th>Player_of_Match</th>\n",
       "      <th>Team1Players</th>\n",
       "      <th>Team2Players</th>\n",
       "      <th>Umpire1</th>\n",
       "      <th>Umpire2</th>\n",
       "    </tr>\n",
       "  </thead>\n",
       "  <tbody>\n",
       "    <tr>\n",
       "      <th>0</th>\n",
       "      <td>1312200</td>\n",
       "      <td>Ahmedabad</td>\n",
       "      <td>2022-05-29</td>\n",
       "      <td>2022</td>\n",
       "      <td>Final</td>\n",
       "      <td>Rajasthan Royals</td>\n",
       "      <td>Gujarat Titans</td>\n",
       "      <td>Narendra Modi Stadium, Ahmedabad</td>\n",
       "      <td>Rajasthan Royals</td>\n",
       "      <td>bat</td>\n",
       "      <td>N</td>\n",
       "      <td>Gujarat Titans</td>\n",
       "      <td>Wickets</td>\n",
       "      <td>7</td>\n",
       "      <td>NaN</td>\n",
       "      <td>HH Pandya</td>\n",
       "      <td>['YBK Jaiswal', 'JC Buttler', 'SV Samson', 'D ...</td>\n",
       "      <td>['WP Saha', 'Shubman Gill', 'MS Wade', 'HH Pan...</td>\n",
       "      <td>CB Gaffaney</td>\n",
       "      <td>Nitin Menon</td>\n",
       "    </tr>\n",
       "    <tr>\n",
       "      <th>1</th>\n",
       "      <td>1312199</td>\n",
       "      <td>Ahmedabad</td>\n",
       "      <td>2022-05-27</td>\n",
       "      <td>2022</td>\n",
       "      <td>Qualifier 2</td>\n",
       "      <td>Royal Challengers Bangalore</td>\n",
       "      <td>Rajasthan Royals</td>\n",
       "      <td>Narendra Modi Stadium, Ahmedabad</td>\n",
       "      <td>Rajasthan Royals</td>\n",
       "      <td>field</td>\n",
       "      <td>N</td>\n",
       "      <td>Rajasthan Royals</td>\n",
       "      <td>Wickets</td>\n",
       "      <td>7</td>\n",
       "      <td>NaN</td>\n",
       "      <td>JC Buttler</td>\n",
       "      <td>['V Kohli', 'F du Plessis', 'RM Patidar', 'GJ ...</td>\n",
       "      <td>['YBK Jaiswal', 'JC Buttler', 'SV Samson', 'D ...</td>\n",
       "      <td>CB Gaffaney</td>\n",
       "      <td>Nitin Menon</td>\n",
       "    </tr>\n",
       "    <tr>\n",
       "      <th>3</th>\n",
       "      <td>1312197</td>\n",
       "      <td>Kolkata</td>\n",
       "      <td>2022-05-24</td>\n",
       "      <td>2022</td>\n",
       "      <td>Qualifier 1</td>\n",
       "      <td>Rajasthan Royals</td>\n",
       "      <td>Gujarat Titans</td>\n",
       "      <td>Eden Gardens, Kolkata</td>\n",
       "      <td>Gujarat Titans</td>\n",
       "      <td>field</td>\n",
       "      <td>N</td>\n",
       "      <td>Gujarat Titans</td>\n",
       "      <td>Wickets</td>\n",
       "      <td>7</td>\n",
       "      <td>NaN</td>\n",
       "      <td>DA Miller</td>\n",
       "      <td>['YBK Jaiswal', 'JC Buttler', 'SV Samson', 'D ...</td>\n",
       "      <td>['WP Saha', 'Shubman Gill', 'MS Wade', 'HH Pan...</td>\n",
       "      <td>BNJ Oxenford</td>\n",
       "      <td>VK Sharma</td>\n",
       "    </tr>\n",
       "    <tr>\n",
       "      <th>4</th>\n",
       "      <td>1304116</td>\n",
       "      <td>Mumbai</td>\n",
       "      <td>2022-05-22</td>\n",
       "      <td>2022</td>\n",
       "      <td>70</td>\n",
       "      <td>Sunrisers Hyderabad</td>\n",
       "      <td>Punjab Kings</td>\n",
       "      <td>Wankhede Stadium, Mumbai</td>\n",
       "      <td>Sunrisers Hyderabad</td>\n",
       "      <td>bat</td>\n",
       "      <td>N</td>\n",
       "      <td>Punjab Kings</td>\n",
       "      <td>Wickets</td>\n",
       "      <td>5</td>\n",
       "      <td>NaN</td>\n",
       "      <td>Harpreet Brar</td>\n",
       "      <td>['PK Garg', 'Abhishek Sharma', 'RA Tripathi', ...</td>\n",
       "      <td>['JM Bairstow', 'S Dhawan', 'M Shahrukh Khan',...</td>\n",
       "      <td>AK Chaudhary</td>\n",
       "      <td>NA Patwardhan</td>\n",
       "    </tr>\n",
       "    <tr>\n",
       "      <th>5</th>\n",
       "      <td>1304115</td>\n",
       "      <td>Mumbai</td>\n",
       "      <td>2022-05-21</td>\n",
       "      <td>2022</td>\n",
       "      <td>69</td>\n",
       "      <td>Delhi Capitals</td>\n",
       "      <td>Mumbai Indians</td>\n",
       "      <td>Wankhede Stadium, Mumbai</td>\n",
       "      <td>Mumbai Indians</td>\n",
       "      <td>field</td>\n",
       "      <td>N</td>\n",
       "      <td>Mumbai Indians</td>\n",
       "      <td>Wickets</td>\n",
       "      <td>5</td>\n",
       "      <td>NaN</td>\n",
       "      <td>JJ Bumrah</td>\n",
       "      <td>['PP Shaw', 'DA Warner', 'MR Marsh', 'RR Pant'...</td>\n",
       "      <td>['Ishan Kishan', 'RG Sharma', 'D Brevis', 'Til...</td>\n",
       "      <td>Nitin Menon</td>\n",
       "      <td>Tapan Sharma</td>\n",
       "    </tr>\n",
       "  </tbody>\n",
       "</table>\n",
       "</div>"
      ],
      "text/plain": [
       "        ID       City        Date  Season  MatchNumber  \\\n",
       "0  1312200  Ahmedabad  2022-05-29    2022        Final   \n",
       "1  1312199  Ahmedabad  2022-05-27    2022  Qualifier 2   \n",
       "3  1312197    Kolkata  2022-05-24    2022  Qualifier 1   \n",
       "4  1304116     Mumbai  2022-05-22    2022           70   \n",
       "5  1304115     Mumbai  2022-05-21    2022           69   \n",
       "\n",
       "                         Team1             Team2  \\\n",
       "0             Rajasthan Royals    Gujarat Titans   \n",
       "1  Royal Challengers Bangalore  Rajasthan Royals   \n",
       "3             Rajasthan Royals    Gujarat Titans   \n",
       "4          Sunrisers Hyderabad      Punjab Kings   \n",
       "5               Delhi Capitals    Mumbai Indians   \n",
       "\n",
       "                              Venue           TossWinner TossDecision  \\\n",
       "0  Narendra Modi Stadium, Ahmedabad     Rajasthan Royals          bat   \n",
       "1  Narendra Modi Stadium, Ahmedabad     Rajasthan Royals        field   \n",
       "3             Eden Gardens, Kolkata       Gujarat Titans        field   \n",
       "4          Wankhede Stadium, Mumbai  Sunrisers Hyderabad          bat   \n",
       "5          Wankhede Stadium, Mumbai       Mumbai Indians        field   \n",
       "\n",
       "  SuperOver       WinningTeam    WonBy  Margin  method Player_of_Match  \\\n",
       "0         N    Gujarat Titans  Wickets       7     NaN       HH Pandya   \n",
       "1         N  Rajasthan Royals  Wickets       7     NaN      JC Buttler   \n",
       "3         N    Gujarat Titans  Wickets       7     NaN       DA Miller   \n",
       "4         N      Punjab Kings  Wickets       5     NaN   Harpreet Brar   \n",
       "5         N    Mumbai Indians  Wickets       5     NaN       JJ Bumrah   \n",
       "\n",
       "                                        Team1Players  \\\n",
       "0  ['YBK Jaiswal', 'JC Buttler', 'SV Samson', 'D ...   \n",
       "1  ['V Kohli', 'F du Plessis', 'RM Patidar', 'GJ ...   \n",
       "3  ['YBK Jaiswal', 'JC Buttler', 'SV Samson', 'D ...   \n",
       "4  ['PK Garg', 'Abhishek Sharma', 'RA Tripathi', ...   \n",
       "5  ['PP Shaw', 'DA Warner', 'MR Marsh', 'RR Pant'...   \n",
       "\n",
       "                                        Team2Players       Umpire1  \\\n",
       "0  ['WP Saha', 'Shubman Gill', 'MS Wade', 'HH Pan...   CB Gaffaney   \n",
       "1  ['YBK Jaiswal', 'JC Buttler', 'SV Samson', 'D ...   CB Gaffaney   \n",
       "3  ['WP Saha', 'Shubman Gill', 'MS Wade', 'HH Pan...  BNJ Oxenford   \n",
       "4  ['JM Bairstow', 'S Dhawan', 'M Shahrukh Khan',...  AK Chaudhary   \n",
       "5  ['Ishan Kishan', 'RG Sharma', 'D Brevis', 'Til...   Nitin Menon   \n",
       "\n",
       "         Umpire2  \n",
       "0    Nitin Menon  \n",
       "1    Nitin Menon  \n",
       "3      VK Sharma  \n",
       "4  NA Patwardhan  \n",
       "5   Tapan Sharma  "
      ]
     },
     "execution_count": 90,
     "metadata": {},
     "output_type": "execute_result"
    }
   ],
   "source": [
    "batting_second.head()"
   ]
  },
  {
   "cell_type": "code",
   "execution_count": 98,
   "id": "77b9aa25",
   "metadata": {},
   "outputs": [
    {
     "data": {
      "image/png": "[encoded data removed]",
      "text/plain": [
       "<Figure size 432x216 with 1 Axes>"
      ]
     },
     "metadata": {
      "needs_background": "light"
     },
     "output_type": "display_data"
    }
   ],
   "source": [
    "#histogram for frequency of wins w.r.t. number of wicket\n",
    "plt.figure(figsize=(6,3))\n",
    "plt.hist(batting_second[\"Margin\"],bins=20)\n",
    "plt.show()"
   ]
  },
  {
   "cell_type": "code",
   "execution_count": 102,
   "id": "af0fcd16",
   "metadata": {},
   "outputs": [
    {
     "data": {
      "text/plain": [
       "Gujarat Titans                 8\n",
       "Sunrisers Hyderabad            5\n",
       "Royal Challengers Bangalore    4\n",
       "Delhi Capitals                 4\n",
       "Kolkata Knight Riders          4\n",
       "Rajasthan Royals               3\n",
       "Punjab Kings                   3\n",
       "Mumbai Indians                 3\n",
       "Lucknow Super Giants           2\n",
       "Chennai Super Kings            1\n",
       "Name: WinningTeam, dtype: int64"
      ]
     },
     "execution_count": 102,
     "metadata": {},
     "output_type": "execute_result"
    }
   ],
   "source": [
    "# finding out the number of wins w.r.t each time after batting second\n",
    "batting_second['WinningTeam'].value_counts()"
   ]
  },
  {
   "cell_type": "code",
   "execution_count": 103,
   "id": "3c24f085",
   "metadata": {},
   "outputs": [
    {
     "data": {
      "text/plain": [
       "Index(['Gujarat Titans', 'Sunrisers Hyderabad', 'Royal Challengers Bangalore',\n",
       "       'Delhi Capitals', 'Kolkata Knight Riders', 'Rajasthan Royals',\n",
       "       'Punjab Kings', 'Mumbai Indians', 'Lucknow Super Giants',\n",
       "       'Chennai Super Kings'],\n",
       "      dtype='object')"
      ]
     },
     "execution_count": 103,
     "metadata": {},
     "output_type": "execute_result"
    }
   ],
   "source": [
    "batting_second['WinningTeam'].value_counts().keys()"
   ]
  },
  {
   "cell_type": "code",
   "execution_count": 104,
   "id": "60495f9c",
   "metadata": {},
   "outputs": [
    {
     "data": {
      "image/png": "[encoded data removed]",
      "text/plain": [
       "<Figure size 432x432 with 1 Axes>"
      ]
     },
     "metadata": {},
     "output_type": "display_data"
    }
   ],
   "source": [
    "#pie chart\n",
    "plt.figure(figsize=(6,6))\n",
    "plt.pie(list(batting_second['WinningTeam'].value_counts()),labels=list(batting_second['WinningTeam'].value_counts().keys()),autopct='%0.1f%%')\n",
    "plt.show()"
   ]
  },
  {
   "cell_type": "code",
   "execution_count": 105,
   "id": "881c751b",
   "metadata": {},
   "outputs": [
    {
     "data": {
      "text/plain": [
       "36"
      ]
     },
     "execution_count": 105,
     "metadata": {},
     "output_type": "execute_result"
    }
   ],
   "source": [
    "# find how many times a team won match after winning a toss\n",
    "import numpy as np\n",
    "np.sum(ipl['TossWinner']==ipl['WinningTeam'])"
   ]
  },
  {
   "cell_type": "code",
   "execution_count": 106,
   "id": "3f485cc0",
   "metadata": {},
   "outputs": [
    {
     "data": {
      "text/plain": [
       "Mumbai         48\n",
       "Pune           13\n",
       "Navi Mumbai     9\n",
       "Ahmedabad       2\n",
       "Kolkata         2\n",
       "Name: City, dtype: int64"
      ]
     },
     "execution_count": 106,
     "metadata": {},
     "output_type": "execute_result"
    }
   ],
   "source": [
    "#number of matches played in a city\n",
    "ipl['City'].value_counts()"
   ]
  },
  {
   "cell_type": "code",
   "execution_count": null,
   "id": "c0f85865",
   "metadata": {},
   "outputs": [],
   "source": []
  }
 ],
 "metadata": {
  "kernelspec": {
   "display_name": "Python 3 (ipykernel)",
   "language": "python",
   "name": "python3"
  },
  "language_info": {
   "codemirror_mode": {
    "name": "ipython",
    "version": 3
   },
   "file_extension": ".py",
   "mimetype": "text/x-python",
   "name": "python",
   "nbconvert_exporter": "python",
   "pygments_lexer": "ipython3",
   "version": "3.9.12"
  }
 },
 "nbformat": 4,
 "nbformat_minor": 5
}
